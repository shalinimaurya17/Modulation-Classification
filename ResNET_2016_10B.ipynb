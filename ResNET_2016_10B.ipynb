{
  "cells": [
    {
      "cell_type": "markdown",
      "metadata": {
        "id": "view-in-github",
        "colab_type": "text"
      },
      "source": [
        "<a href=\"https://colab.research.google.com/github/shalinimaurya17/Modulation-Classification/blob/main/ResNET_2016_10B.ipynb\" target=\"_parent\"><img src=\"https://colab.research.google.com/assets/colab-badge.svg\" alt=\"Open In Colab\"/></a>"
      ]
    },
    {
      "cell_type": "code",
      "execution_count": null,
      "metadata": {
        "id": "l84_k5S5Qls-"
      },
      "outputs": [],
      "source": [
        "from scipy.io import loadmat\n",
        "from pandas import factorize\n",
        "import pickle\n",
        "import pickle as pkl\n",
        "import numpy as np\n",
        "import pandas as pd\n",
        "import random\n",
        "from scipy import signal\n",
        "import csv\n",
        "\n",
        "from matplotlib import pyplot as plt\n",
        "from sklearn.metrics import confusion_matrix\n",
        "import seaborn as sns\n",
        "import tensorflow as tf\n",
        "from tensorflow import keras\n",
        "from tensorflow.keras.utils import to_categorical\n",
        "from tensorflow.keras import backend as K\n",
        "from tensorflow.keras import layers\n",
        "from tensorflow.keras.utils import plot_model\n",
        "from tensorflow.keras import Model\n",
        "from keras.layers import BatchNormalization"
      ]
    },
    {
      "cell_type": "code",
      "execution_count": null,
      "metadata": {
        "id": "zcYQebk3iXYq"
      },
      "outputs": [],
      "source": [
        "# RadioML2016.10a/10b or MIGOU MOD\n",
        "\n",
        "def load_dataset(dataset_location):\n",
        "    \"\"\"\n",
        "    Load dataset and extract needed data\n",
        "\n",
        "    Input: \n",
        "        dataset_location: specify where the file is stored and its name\n",
        "\n",
        "    Output:\n",
        "        snrs: list of the SNR range in dataset [-20 to 18]\n",
        "        X: array of the measured I/Q data [num_of_samples, 128, 2]\n",
        "        modulations: list of the modulations in this dataset\n",
        "        one_hot_encode: one_hot encoded data - the other maps the order of the mods\n",
        "        lbl_SNR: list of each snr (for plotting)\n",
        "    \"\"\"\n",
        "\n",
        "    snrs,mods = map(lambda j: sorted(list(set(map(lambda x: x[j], dataset_location.keys())))), [1,0])\n",
        "\n",
        "    X = []; I = []; Q = []; lbl = [];\n",
        "\n",
        "    for mod in mods:\n",
        "        for snr in snrs:\n",
        "            X.append(dataset_location[(mod,snr)])\n",
        "            for i in range(dataset_location[(mod,snr)].shape[0]):  \n",
        "                lbl.append((mod,snr))\n",
        "    X = np.vstack(X); lbl=np.vstack(lbl)\n",
        "\n",
        "    X = np.transpose(X[:,:,:],(0,2,1))\n",
        "\n",
        "    # One-hot-encoding\n",
        "    Y = [];\n",
        "    for i in range(len(lbl)):\n",
        "        mod = (lbl[i,0])\n",
        "        Y.append(mod)\n",
        "\n",
        "    mapping = {}\n",
        "    for x in range(len(mods)):\n",
        "        mapping[mods[x]] = x\n",
        "\n",
        "    ## integer representation\n",
        "    for x in range(len(Y)):\n",
        "        Y[x] = mapping[Y[x]]\n",
        "\n",
        "    one_hot_encode = to_categorical(Y)\n",
        "\n",
        "    # Assign SNR value to each vector\n",
        "    repeat_n = X.shape[0]/len(mods)/len(snrs)\n",
        "    repeat_n_mod = len(mods)    \n",
        "    lbl_SNR = np.tile(np.repeat(snrs, repeat_n), repeat_n_mod)\n",
        "\n",
        "\n",
        "\n",
        "    return snrs, X, mods, one_hot_encode, lbl_SNR\n",
        "    "
      ]
    },
    {
      "cell_type": "code",
      "execution_count": null,
      "metadata": {
        "id": "SDzeLUOfpM-R"
      },
      "outputs": [],
      "source": [
        "def show_confusion_matrix(validations, predictions, matrix_snr, save=False):\n",
        "    \"\"\"\n",
        "    Plot confusion matrix\n",
        "\n",
        "    validations:    True Y labels\n",
        "    predictions:    Predicted Y labels of your model\n",
        "    matrix_snr:     SNR information for plot's titel\n",
        "    \"\"\"\n",
        "  \n",
        "    cm = confusion_matrix(validations, predictions)\n",
        "    # Normalise\n",
        "    cmn = cm.astype('float') / cm.sum(axis=1)[:, np.newaxis]\n",
        "    fig, ax = plt.subplots(figsize=(10,10))\n",
        "    sns.heatmap(cmn, cmap='Blues', annot=True, fmt='.2f', xticklabels=mods, yticklabels=mods)\n",
        "    sns.set(font_scale=1.3)\n",
        "    if matrix_snr == None:\n",
        "        plt.title(\"Confusion Matrix\")\n",
        "    else:\n",
        "        plt.title(\"Confusion Matrix \\n\" + str(matrix_snr) + \"dB\")\n",
        "    plt.ylabel('True Label')\n",
        "    plt.xlabel('Predicted Label')\n",
        "    if save == True:\n",
        "        plt.savefig(base_dir + 'Own_dataset/' + str(matrix_snr) + '.png')    \n",
        "    plt.show(block=False)\n",
        "    "
      ]
    },
    {
      "cell_type": "code",
      "execution_count": null,
      "metadata": {
        "id": "g_1lOiY4j8PB"
      },
      "outputs": [],
      "source": [
        "def All_SNR_show_confusion_matrix(X_test, save=False):\n",
        "    \"\"\"\n",
        "    Plot confusion matrix of all SNRs in one\n",
        "\n",
        "    X_test:   X_test data\n",
        "    \"\"\"\n",
        "    prediction = model.predict(X_test)\n",
        "\n",
        "    Y_Pred = []; Y_Test = [];\n",
        "\n",
        "    for i in range(len(prediction[:,0])):\n",
        "        Y_Pred.append(np.argmax(prediction[i,:]))\n",
        "        Y_Test.append(np.argmax(Y_test[i]))\n",
        "\n",
        "    show_confusion_matrix(Y_Pred, Y_Test, None, save)"
      ]
    },
    {
      "cell_type": "code",
      "execution_count": null,
      "metadata": {
        "id": "xSrPHN9hCv_Q"
      },
      "outputs": [],
      "source": [
        "def train_test_valid_split(X, one_hot, train_split=0.7, valid_split=0.15, test_split=0.15):\n",
        "    \n",
        "    \"\"\"\n",
        "    Train-Test split the data\n",
        "\n",
        "    Input:\n",
        "        X: X data\n",
        "        one_hot: Y data encoded to one_hot\n",
        "        train_split (default 0.7)\n",
        "        valid_split (default 0.15)\n",
        "        test_split (default 0.15)\n",
        "        train_split : valid_split : test_split - ratio for splitting the dataset\n",
        "        \n",
        "        NOTE: the ratio split must be a sum of 1!\n",
        "\n",
        "    Output:\n",
        "        train_idx: indexes from X assinged to train data\n",
        "        valid_idx: indexes from X assinged to validation data \n",
        "        test_idx: indexes from X assinged to test data\n",
        "        X_train: X data assigned for training\n",
        "        X_valid: X data assigned for validation\n",
        "        X_test: X data assigned for testing\n",
        "        Y_train: one-hot encoded Y data assigned for training\n",
        "        Y_valid: one-hot encoded Y data assigned for validation\n",
        "        Y_test: one-hot encoded Y data assigned for testing\n",
        "    \"\"\"\n",
        "\n",
        "    # Set random seed\n",
        "    np.random.seed(42)\n",
        "    random.seed(42)\n",
        "\n",
        "    # Get the number of samples\n",
        "    n_examples = X.shape[0]\n",
        "    n_train = int(n_examples * train_split)\n",
        "    n_valid = int(n_examples * valid_split)\n",
        "    n_test = int(n_examples * test_split)\n",
        "    \n",
        "    # Get indexes of train data\n",
        "    train_idx = np.random.choice(range(0, n_examples), size=n_train, replace=False)\n",
        "\n",
        "    # Left indexes for valid and test sets\n",
        "    left_idx= list(set(range(0, n_examples)) - set(train_idx))\n",
        "    \n",
        "    # Get indexes for the left indexes of the X data\n",
        "    val = np.random.choice(range(0, (n_valid+n_test)), size=(n_valid), replace=False)\n",
        "    test = list(set(range(0, len(left_idx))) - set(val))\n",
        "\n",
        "    # Assign indeces for validation to left indexes\n",
        "    valid_idx = []\n",
        "    for i in val:\n",
        "        val_idx = left_idx[i]\n",
        "        valid_idx.append(val_idx)\n",
        "    \n",
        "    # Get the test set as the rest indexes\n",
        "    test_idx = []\n",
        "    for i in test:\n",
        "        tst_idx = left_idx[i]\n",
        "        test_idx.append(tst_idx)\n",
        "    \n",
        "    # Shuffle the valid_idx and test_idx\n",
        "    random.shuffle(valid_idx)\n",
        "    random.shuffle(test_idx)\n",
        "\n",
        "    # Assing the indexes to the X and Y data to create train and test sets\n",
        "    X_train = X[train_idx]\n",
        "    X_valid = X[valid_idx]\n",
        "    X_test = X[test_idx]   \n",
        "    Y_train = one_hot[train_idx]\n",
        "    Y_valid = one_hot[valid_idx]\n",
        "    Y_test = one_hot[test_idx]  \n",
        "\n",
        "    return train_idx, valid_idx, test_idx, X_train, X_valid, X_test, Y_train, Y_valid, Y_test\n",
        "\n"
      ]
    },
    {
      "cell_type": "code",
      "execution_count": null,
      "metadata": {
        "id": "5VLh2-YxlV_9"
      },
      "outputs": [],
      "source": [
        "def normalize_data(X_train, X_valid, X_test):\n",
        "        # mean-std normalization\n",
        "\n",
        "    mean = X_train[:,:,:].mean(axis=0)\n",
        "    X_train[:,:,:] -= mean\n",
        "    std = X_train[:,:,:].std(axis=0)\n",
        "    X_train[:,:,:] /= std\n",
        "\n",
        "\n",
        "    X_valid[:,:,:] -= mean\n",
        "    X_valid[:,:,:] /= std\n",
        "\n",
        "    X_test[:,:,:] -= mean\n",
        "    X_test[:,:,:] /= std\n",
        "\n",
        "    return X_train, X_valid, X_test"
      ]
    },
    {
      "cell_type": "code",
      "execution_count": null,
      "metadata": {
        "id": "0LGV76g1dhdy"
      },
      "outputs": [],
      "source": [
        "def return_indices_of_a(a, b):\n",
        "    \"\"\"\n",
        "    Compare two lists a, b for same items and return indeces\n",
        "    of the item in list a\n",
        "\n",
        "    a:    List of items, its indeces will be returned\n",
        "    b:    List of items to search for in list a\n",
        "\n",
        "    Credit: https://stackoverflow.com/users/97248/pts ; https://stackoverflow.com/questions/10367020/compare-two-lists-in-python-and-return-indices-of-matched-values\n",
        "    \"\"\"\n",
        "    b_set = set(b)\n",
        "    return [i for i, v in enumerate(a) if v in b_set]"
      ]
    },
    {
      "cell_type": "code",
      "execution_count": null,
      "metadata": {
        "id": "7YHKO1EdnDJw"
      },
      "outputs": [],
      "source": [
        "def plot_split_distribution(mods, Y_train, Y_valid, Y_test):\n",
        "\n",
        "    x = np.arange(len(mods))  # the label locations\n",
        "    width = 1  # the width of the bars\n",
        "\n",
        "    fig, ax = plt.subplots()\n",
        "    bar1 = ax.bar(x-width*0.3, np.count_nonzero(Y_train == 1, axis=0), width*0.3, label = \"Train\" )\n",
        "    bar2 = ax.bar(x , np.count_nonzero(Y_valid == 1, axis=0), width*0.3, label = \"Valid\" )\n",
        "    bar3 = ax.bar(x+width*0.3, np.count_nonzero(Y_test == 1, axis=0), width*0.3, label = \"Test\" )\n",
        "\n",
        "\n",
        "    # Add some text for labels, title and custom x-axis tick labels, etc.\n",
        "    ax.set_ylabel('Distribution')\n",
        "    ax.set_title('Distribution overview of splitted dataset')\n",
        "    ax.set_xticks(x)\n",
        "    ax.set_xticklabels(mods)\n",
        "    ax.legend(loc='upper center', bbox_to_anchor=(0.5, -0.15),\n",
        "            fancybox=True, shadow=True, ncol=5)\n",
        "\n",
        "\n",
        "    def autolabel(rects):\n",
        "        \"\"\"Attach a text label above each bar in *rects*, displaying its height.\"\"\"\n",
        "        for rect in rects:\n",
        "            height = rect.get_height()\n",
        "            ax.annotate('{}'.format(height),\n",
        "                        xy=(rect.get_x() + rect.get_width() / 2, height),\n",
        "                        xytext=(0, 0),  # 3 points vertical offset\n",
        "                        textcoords=\"offset points\",\n",
        "                        ha='center', va='bottom')\n",
        "            \n",
        "    # autolabel(bar1)\n",
        "    # autolabel(bar2)\n",
        "    # autolabel(bar3)\n",
        "    # fig.tight_layout()\n",
        "    return plt.show()"
      ]
    },
    {
      "cell_type": "code",
      "execution_count": null,
      "metadata": {
        "id": "IwM190yC0eC7"
      },
      "outputs": [],
      "source": [
        "def SNR_accuracy(in_snr, name):\n",
        "    \"\"\"\n",
        "    Computes accuracies of chosen SNRs individualy\n",
        "  \n",
        "    in_snr:   must be list of SNRs\n",
        "    \"\"\"\n",
        "    \n",
        "    acc = []\n",
        "    for snr in in_snr:\n",
        "        acc_snr = snr\n",
        "        idx_acc_snr = []\n",
        "\n",
        "        for i in range(len(test_idx)):\n",
        "            if int(lbl_SNR[test_idx[i]]) == int(acc_snr):\n",
        "                idx_acc_snr.append(i)\n",
        "\n",
        "        acc_X_test = X_test[idx_acc_snr]\n",
        "        # acc_X_f_test = X_f_test[idx_acc_snr]\n",
        "        acc_Y_test = Y_test[idx_acc_snr]\n",
        "\n",
        "        print('\\nSNR ' + str(acc_snr) + 'dB:')\n",
        "        accuracy_snr = model.evaluate([acc_X_test], acc_Y_test, batch_size=32, verbose=2)\n",
        "        acc.append(accuracy_snr)\n",
        "\n",
        "    acc = np.vstack(acc)\n",
        "    fig = plt.figure()\n",
        "    ax = fig.add_subplot(1, 1, 1)\n",
        "    plt.plot(SNR, (acc[:,1]*100), 'steelblue', marker='.', markersize= 15, label = name, linestyle = '-',)\n",
        "    ax.legend(loc=4, prop={'size': 25})\n",
        "\n",
        "    x_major_ticks = np.arange(-20, 19, 2 )\n",
        "    ax.set_xticks(x_major_ticks)\n",
        "\n",
        "    y_major_ticks = np.arange(0, 101, 10 )\n",
        "    y_minor_ticks = np.arange(0, 101, 2)\n",
        "    ax.set_yticks(y_major_ticks)\n",
        "    ax.set_yticks(y_minor_ticks, minor=True)\n",
        "    ax.tick_params(axis='both', which='major', labelsize=10)\n",
        "\n",
        "    ax.grid(which='both',color='lightgray', linestyle='-')\n",
        "\n",
        "    ax.grid(which='minor', alpha=0.2)\n",
        "    ax.grid(which='major', alpha=0.5)\n",
        "\n",
        "    plt.xlim(-20, 18)\n",
        "    plt.ylim(0,100)\n",
        "    plt.title(\"Classification Accuracy\",fontsize=20)\n",
        "    plt.ylabel('Accuracy (%)',fontsize=20)\n",
        "    plt.xlabel('SNR (dB)',fontsize=20)\n",
        "    # plt.savefig(base_dir + name + '.png') \n",
        "    plt.show()\n",
        "\n",
        "    return acc[:,1]\n"
      ]
    },
    {
      "cell_type": "code",
      "execution_count": null,
      "metadata": {
        "colab": {
          "base_uri": "https://localhost:8080/"
        },
        "id": "xZHL2bgs3atl",
        "outputId": "c9169ab8-60cc-40ba-c6b7-855eccfa8f72"
      },
      "outputs": [
        {
          "name": "stdout",
          "output_type": "stream",
          "text": [
            "Mounted at /content/drive\n"
          ]
        }
      ],
      "source": [
        "from google.colab import drive\n",
        "drive.mount('/content/drive')"
      ]
    },
    {
      "cell_type": "code",
      "execution_count": null,
      "metadata": {
        "colab": {
          "base_uri": "https://localhost:8080/",
          "height": 516
        },
        "id": "U_V2nlVukOrV",
        "outputId": "ac743edc-04ce-478d-a063-125ef76c71a9"
      },
      "outputs": [
        {
          "data": {
            "image/png": "[encoded data removed]",
            "text/plain": [
              "<Figure size 640x480 with 1 Axes>"
            ]
          },
          "metadata": {},
          "output_type": "display_data"
        }
      ],
      "source": [
        "dataset_pkl = open('/content/drive/MyDrive/Colab Notebooks/RML2016.10b.dat','rb')\n",
        "RML_dataset_location = pickle.load(dataset_pkl, encoding='bytes')\n",
        "\n",
        "SNR, X, modulations, one_hot, lbl_SNR = load_dataset(RML_dataset_location)\n",
        "\n",
        "mods = []\n",
        "for i in range(len(modulations)):\n",
        "    modu = modulations[i].decode('utf-8')\n",
        "    mods.append(modu)\n",
        "\n",
        "train_idx, valid_idx, test_idx, X_train, X_valid, X_test, Y_train, Y_valid, Y_test = train_test_valid_split(X, one_hot, train_split=0.7, valid_split=0.15, test_split=0.15)\n",
        "plot_split_distribution(mods, Y_train, Y_valid, Y_test)\n",
        "\n"
      ]
    },
    {
      "cell_type": "code",
      "execution_count": null,
      "metadata": {
        "id": "Fu6rDvhRlAwC"
      },
      "outputs": [],
      "source": [
        "from keras.datasets import cifar10\n",
        "from keras.utils import np_utils\n",
        "from keras import metrics, Model\n",
        "from keras.models import Sequential\n",
        "from keras.layers import Dense, Flatten, Conv2D, MaxPooling2D, LSTM, Input, Add, Reshape, Dropout\n",
        "from keras import metrics\n",
        "from keras.losses import categorical_crossentropy\n",
        "from keras.optimizers import SGD\n",
        "import pickle\n",
        "import matplotlib.pyplot as plt\n",
        "import numpy as np \n",
        "from keras.preprocessing.image import ImageDataGenerator\n",
        "from keras import layers\n",
        "from keras.callbacks import EarlyStopping\n",
        "\n",
        "def resnet(x_shape):\n",
        "    x = Input(x_shape)\n",
        "    y = Conv2D(256, (3, 3), activation='relu', padding='same')(x)\n",
        "    y = Dropout(0.20)(y)\n",
        "    y = Conv2D(256, (3, 3), activation='relu', padding='same')(y)   \n",
        "    z = Add()([x, y])\n",
        "    z = Conv2D(256, (3, 3),activation='relu', padding='same')(z)\n",
        "    z = Conv2D(256, (3, 3),activation='relu', padding='same')(z)\n",
        "    z = Dropout(0.20)(z)\n",
        "    z = Conv2D(128, (2, 3), activation='relu',padding='same')(z)\n",
        "    z = Dropout(0.20)(z)\n",
        "    z = Conv2D(80, (1, 3), activation='relu', padding='same')(z)\n",
        "    z = Dropout(0.20)(z)\n",
        "    z = Conv2D(80, (1, 3), activation='relu', padding='same')(z)\n",
        "    z = Dropout(0.20)(z)\n",
        "\n",
        "    z = Conv2D(64, (1, 3),activation='relu', padding='same')(z)\n",
        "  \n",
        "    z = Add()([z,x])\n",
        "   \n",
        "\n",
        "    zz = Flatten()(z)\n",
        "    z = Dense(128, activation='relu')(zz)\n",
        "    z = Dropout(0.20)(z)\n",
        "    print(z.shape)\n",
        "    z = Dense(10, activation='softmax')(z)\n",
        "    print(z.shape)\n",
        "    model = Model(x,z)\n",
        "    return model\n",
        "\n"
      ]
    },
    {
      "cell_type": "code",
      "execution_count": null,
      "metadata": {
        "colab": {
          "base_uri": "https://localhost:8080/"
        },
        "id": "WBtEgjHinjJe",
        "outputId": "c6463adf-8b37-481c-d389-27fa772892d9"
      },
      "outputs": [
        {
          "name": "stdout",
          "output_type": "stream",
          "text": [
            "(None, 128)\n",
            "(None, 10)\n"
          ]
        }
      ],
      "source": [
        "callbacks = [\n",
        "    keras.callbacks.ModelCheckpoint(\n",
        "        \"model.h5\", save_best_only=True, monitor=\"val_loss\"),\n",
        "    keras.callbacks.ReduceLROnPlateau(\n",
        "        monitor=\"val_loss\", factor=0.3, patience=3, min_lr=0.00007),\n",
        "    keras.callbacks.EarlyStopping(monitor=\"val_loss\", patience=5, verbose=1)]\n",
        "\n",
        "optimizer = keras.optimizers.Adam(learning_rate=0.0007)\n",
        "shape=(128,2,1)\n",
        "modelsa=resnet(shape)\n",
        "modelsa.compile(loss='categorical_crossentropy', optimizer=optimizer, metrics=['accuracy'])\n"
      ]
    },
    {
      "cell_type": "code",
      "execution_count": null,
      "metadata": {
        "colab": {
          "base_uri": "https://localhost:8080/"
        },
        "id": "R9QQHC-6xLJq",
        "outputId": "76826780-e281-493d-dd36-4a3044d22c6d"
      },
      "outputs": [
        {
          "name": "stdout",
          "output_type": "stream",
          "text": [
            "Model: \"model\"\n",
            "__________________________________________________________________________________________________\n",
            " Layer (type)                   Output Shape         Param #     Connected to                     \n",
            "==================================================================================================\n",
            " input_1 (InputLayer)           [(None, 128, 2, 1)]  0           []                               \n",
            "                                                                                                  \n",
            " conv2d (Conv2D)                (None, 128, 2, 256)  2560        ['input_1[0][0]']                \n",
            "                                                                                                  \n",
            " dropout (Dropout)              (None, 128, 2, 256)  0           ['conv2d[0][0]']                 \n",
            "                                                                                                  \n",
            " conv2d_1 (Conv2D)              (None, 128, 2, 256)  590080      ['dropout[0][0]']                \n",
            "                                                                                                  \n",
            " add (Add)                      (None, 128, 2, 256)  0           ['input_1[0][0]',                \n",
            "                                                                  'conv2d_1[0][0]']               \n",
            "                                                                                                  \n",
            " conv2d_2 (Conv2D)              (None, 128, 2, 256)  590080      ['add[0][0]']                    \n",
            "                                                                                                  \n",
            " conv2d_3 (Conv2D)              (None, 128, 2, 256)  590080      ['conv2d_2[0][0]']               \n",
            "                                                                                                  \n",
            " dropout_1 (Dropout)            (None, 128, 2, 256)  0           ['conv2d_3[0][0]']               \n",
            "                                                                                                  \n",
            " conv2d_4 (Conv2D)              (None, 128, 2, 128)  196736      ['dropout_1[0][0]']              \n",
            "                                                                                                  \n",
            " dropout_2 (Dropout)            (None, 128, 2, 128)  0           ['conv2d_4[0][0]']               \n",
            "                                                                                                  \n",
            " conv2d_5 (Conv2D)              (None, 128, 2, 80)   30800       ['dropout_2[0][0]']              \n",
            "                                                                                                  \n",
            " dropout_3 (Dropout)            (None, 128, 2, 80)   0           ['conv2d_5[0][0]']               \n",
            "                                                                                                  \n",
            " conv2d_6 (Conv2D)              (None, 128, 2, 80)   19280       ['dropout_3[0][0]']              \n",
            "                                                                                                  \n",
            " dropout_4 (Dropout)            (None, 128, 2, 80)   0           ['conv2d_6[0][0]']               \n",
            "                                                                                                  \n",
            " conv2d_7 (Conv2D)              (None, 128, 2, 64)   15424       ['dropout_4[0][0]']              \n",
            "                                                                                                  \n",
            " add_1 (Add)                    (None, 128, 2, 64)   0           ['conv2d_7[0][0]',               \n",
            "                                                                  'input_1[0][0]']                \n",
            "                                                                                                  \n",
            " flatten (Flatten)              (None, 16384)        0           ['add_1[0][0]']                  \n",
            "                                                                                                  \n",
            " dense (Dense)                  (None, 128)          2097280     ['flatten[0][0]']                \n",
            "                                                                                                  \n",
            " dropout_5 (Dropout)            (None, 128)          0           ['dense[0][0]']                  \n",
            "                                                                                                  \n",
            " dense_1 (Dense)                (None, 10)           1290        ['dropout_5[0][0]']              \n",
            "                                                                                                  \n",
            "==================================================================================================\n",
            "Total params: 4,133,610\n",
            "Trainable params: 4,133,610\n",
            "Non-trainable params: 0\n",
            "__________________________________________________________________________________________________\n"
          ]
        }
      ],
      "source": [
        "modelsa.summary()"
      ]
    },
    {
      "cell_type": "code",
      "execution_count": null,
      "metadata": {
        "colab": {
          "base_uri": "https://localhost:8080/"
        },
        "id": "ssc4zD-4xV56",
        "outputId": "5aff0cca-0721-4b5d-8016-913398b3edd5"
      },
      "outputs": [
        {
          "name": "stdout",
          "output_type": "stream",
          "text": [
            "Epoch 1/20\n",
            "6563/6563 - 671s - loss: 1.2523 - accuracy: 0.4798 - val_loss: 1.0689 - val_accuracy: 0.5631 - lr: 7.0000e-04 - 671s/epoch - 102ms/step\n",
            "Epoch 2/20\n",
            "6563/6563 - 655s - loss: 1.0649 - accuracy: 0.5660 - val_loss: 1.0159 - val_accuracy: 0.5903 - lr: 7.0000e-04 - 655s/epoch - 100ms/step\n",
            "Epoch 3/20\n",
            "6563/6563 - 650s - loss: 1.0203 - accuracy: 0.5879 - val_loss: 0.9857 - val_accuracy: 0.6063 - lr: 7.0000e-04 - 650s/epoch - 99ms/step\n",
            "Epoch 4/20\n",
            "6563/6563 - 649s - loss: 0.9967 - accuracy: 0.5989 - val_loss: 0.9799 - val_accuracy: 0.6059 - lr: 7.0000e-04 - 649s/epoch - 99ms/step\n",
            "Epoch 5/20\n",
            "6563/6563 - 645s - loss: 0.9813 - accuracy: 0.6047 - val_loss: 0.9693 - val_accuracy: 0.6111 - lr: 7.0000e-04 - 645s/epoch - 98ms/step\n",
            "Epoch 6/20\n",
            "6563/6563 - 648s - loss: 0.9698 - accuracy: 0.6106 - val_loss: 0.9705 - val_accuracy: 0.6103 - lr: 7.0000e-04 - 648s/epoch - 99ms/step\n",
            "Epoch 7/20\n",
            "6563/6563 - 646s - loss: 0.9598 - accuracy: 0.6138 - val_loss: 0.9760 - val_accuracy: 0.6123 - lr: 7.0000e-04 - 646s/epoch - 98ms/step\n",
            "Epoch 8/20\n",
            "6563/6563 - 644s - loss: 0.9514 - accuracy: 0.6182 - val_loss: 0.9730 - val_accuracy: 0.6139 - lr: 7.0000e-04 - 644s/epoch - 98ms/step\n",
            "Epoch 9/20\n",
            "6563/6563 - 649s - loss: 0.9164 - accuracy: 0.6323 - val_loss: 0.9611 - val_accuracy: 0.6185 - lr: 2.1000e-04 - 649s/epoch - 99ms/step\n",
            "Epoch 10/20\n"
          ]
        }
      ],
      "source": [
        "tf.keras.backend.clear_session()\n",
        "history = modelsa.fit(X_train, Y_train, batch_size=128, epochs=20, verbose=2, validation_data= (X_valid, Y_valid), callbacks=callbacks)\n"
      ]
    },
    {
      "cell_type": "code",
      "execution_count": null,
      "metadata": {
        "colab": {
          "background_save": true
        },
        "id": "Q7PsFkxClc50",
        "outputId": "751c142b-ae76-4a30-9890-1ad9949b95f0"
      },
      "outputs": [
        {
          "ename": "NameError",
          "evalue": "ignored",
          "output_type": "error",
          "traceback": [
            "\u001b[0;31m---------------------------------------------------------------------------\u001b[0m",
            "\u001b[0;31mNameError\u001b[0m                                 Traceback (most recent call last)",
            "\u001b[0;32m<ipython-input-1-2f4310da44db>\u001b[0m in \u001b[0;36m<cell line: 1>\u001b[0;34m()\u001b[0m\n\u001b[0;32m----> 1\u001b[0;31m \u001b[0mmodel\u001b[0m \u001b[0;34m=\u001b[0m \u001b[0mkeras\u001b[0m\u001b[0;34m.\u001b[0m\u001b[0mmodels\u001b[0m\u001b[0;34m.\u001b[0m\u001b[0mload_model\u001b[0m\u001b[0;34m(\u001b[0m\u001b[0;34m\"model.h5\"\u001b[0m\u001b[0;34m)\u001b[0m\u001b[0;34m\u001b[0m\u001b[0;34m\u001b[0m\u001b[0m\n\u001b[0m\u001b[1;32m      2\u001b[0m \u001b[0;34m\u001b[0m\u001b[0m\n\u001b[1;32m      3\u001b[0m \u001b[0mtest_loss\u001b[0m\u001b[0;34m,\u001b[0m \u001b[0mtest_acc\u001b[0m \u001b[0;34m=\u001b[0m \u001b[0mmodel\u001b[0m\u001b[0;34m.\u001b[0m\u001b[0mevaluate\u001b[0m\u001b[0;34m(\u001b[0m\u001b[0mX_test\u001b[0m\u001b[0;34m,\u001b[0m \u001b[0mY_test\u001b[0m\u001b[0;34m)\u001b[0m\u001b[0;34m\u001b[0m\u001b[0;34m\u001b[0m\u001b[0m\n\u001b[1;32m      4\u001b[0m \u001b[0;34m\u001b[0m\u001b[0m\n\u001b[1;32m      5\u001b[0m \u001b[0mprint\u001b[0m\u001b[0;34m(\u001b[0m\u001b[0;34m\"Test accuracy\"\u001b[0m\u001b[0;34m,\u001b[0m \u001b[0mtest_acc\u001b[0m\u001b[0;34m)\u001b[0m\u001b[0;34m\u001b[0m\u001b[0;34m\u001b[0m\u001b[0m\n",
            "\u001b[0;31mNameError\u001b[0m: name 'keras' is not defined"
          ]
        }
      ],
      "source": [
        "model = keras.models.load_model(\"model.h5\")\n",
        "\n",
        "test_loss, test_acc = model.evaluate(X_test, Y_test)\n",
        "\n",
        "print(\"Test accuracy\", test_acc)\n",
        "print(\"Test loss\", test_loss)"
      ]
    },
    {
      "cell_type": "code",
      "execution_count": null,
      "metadata": {
        "id": "S403h_ADuAT3"
      },
      "outputs": [],
      "source": [
        "SNR_accuracy(SNR, 'ResNet')"
      ]
    },
    {
      "cell_type": "code",
      "execution_count": null,
      "metadata": {
        "id": "8byIAigPlhHa"
      },
      "outputs": [],
      "source": [
        "All_SNR_show_confusion_matrix([X_test], save=False)"
      ]
    }
  ],
  "metadata": {
    "accelerator": "GPU",
    "colab": {
      "provenance": [],
      "include_colab_link": true
    },
    "gpuClass": "standard",
    "kernelspec": {
      "display_name": "Python 3",
      "name": "python3"
    },
    "language_info": {
      "name": "python"
    }
  },
  "nbformat": 4,
  "nbformat_minor": 0
}